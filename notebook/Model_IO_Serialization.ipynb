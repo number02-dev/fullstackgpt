{
 "cells": [
  {
   "cell_type": "code",
   "execution_count": 12,
   "metadata": {},
   "outputs": [],
   "source": [
    "from langchain.chat_models import ChatOpenAI\n",
    "from langchain.llms import OpenAI\n",
    "from langchain.llms.loading import load_llm"
   ]
  },
  {
   "cell_type": "markdown",
   "metadata": {},
   "source": [
    "### Serialization"
   ]
  },
  {
   "cell_type": "code",
   "execution_count": 18,
   "metadata": {},
   "outputs": [],
   "source": [
    "chat = OpenAI(\n",
    "    temperature=0.1,\n",
    "    max_tokens=450,\n",
    "    model=\"gpt-3.5-turbo-16k\"\n",
    ")"
   ]
  },
  {
   "cell_type": "code",
   "execution_count": 19,
   "metadata": {},
   "outputs": [],
   "source": [
    "chat.save(\"../model/model.json\")"
   ]
  },
  {
   "cell_type": "code",
   "execution_count": 20,
   "metadata": {},
   "outputs": [
    {
     "name": "stderr",
     "output_type": "stream",
     "text": [
      "/Users/sooyounglee/Documents/code/fullstack_gpt/env/lib/python3.11/site-packages/langchain/llms/openai.py:216: UserWarning: You are trying to use a chat model. This way of initializing it is no longer supported. Instead, please use: `from langchain.chat_models import ChatOpenAI`\n",
      "  warnings.warn(\n",
      "/Users/sooyounglee/Documents/code/fullstack_gpt/env/lib/python3.11/site-packages/langchain/llms/openai.py:811: UserWarning: You are trying to use a chat model. This way of initializing it is no longer supported. Instead, please use: `from langchain.chat_models import ChatOpenAI`\n",
      "  warnings.warn(\n"
     ]
    }
   ],
   "source": [
    "chat = load_llm(\"../model/model.json\")"
   ]
  },
  {
   "cell_type": "markdown",
   "metadata": {},
   "source": [
    "### Print Cost"
   ]
  },
  {
   "cell_type": "code",
   "execution_count": 6,
   "metadata": {},
   "outputs": [
    {
     "name": "stdout",
     "output_type": "stream",
     "text": [
      "Here is a basic recipe for traditional Hawaiian poke:\n",
      "\n",
      "Ingredients:\n",
      "- 1 lb sushi-grade ahi tuna, cubed\n",
      "- 1/4 cup soy sauce\n",
      "- 1 tbsp sesame oil\n",
      "- 1 tbsp rice vinegar\n",
      "- 1 tsp sriracha sauce\n",
      "- 1 tsp grated ginger\n",
      "- 2 green onions, thinly sliced\n",
      "- 1/4 cup chopped cilantro\n",
      "- 1/4 cup chopped macadamia nuts\n",
      "- 1 avocado, diced\n",
      "- Sesame seeds, for garnish\n",
      "\n",
      "Instructions:\n",
      "1. In a large bowl, combine the soy sauce, sesame oil, rice vinegar, sriracha sauce, and ginger.\n",
      "2. Add the cubed tuna to the bowl and toss to coat in the marinade. Let marinate in the refrigerator for at least 30 minutes.\n",
      "3. Once the tuna is marinated, add the green onions, cilantro, macadamia nuts, and avocado to the bowl and gently toss to combine.\n",
      "4. Serve the poke in bowls and garnish with sesame seeds. Enjoy! /n\n",
      "Tokens Used: 233\n",
      "\tPrompt Tokens: 13\n",
      "\tCompletion Tokens: 220\n",
      "Successful Requests: 1\n",
      "Total Cost (USD): $0.0004595\n"
     ]
    }
   ],
   "source": [
    "chat = ChatOpenAI(\n",
    "    temperature=0.1\n",
    ")\n",
    "\n",
    "from langchain.callbacks import get_openai_callback\n",
    "\n",
    "with get_openai_callback() as usage:\n",
    "    answer = chat.predict(\"What is the recipe for poke\")\n",
    "    print(answer, \"/n\")\n",
    "    print(usage)"
   ]
  },
  {
   "cell_type": "code",
   "execution_count": null,
   "metadata": {},
   "outputs": [],
   "source": []
  }
 ],
 "metadata": {
  "kernelspec": {
   "display_name": "env",
   "language": "python",
   "name": "python3"
  },
  "language_info": {
   "codemirror_mode": {
    "name": "ipython",
    "version": 3
   },
   "file_extension": ".py",
   "mimetype": "text/x-python",
   "name": "python",
   "nbconvert_exporter": "python",
   "pygments_lexer": "ipython3",
   "version": "3.11.3"
  }
 },
 "nbformat": 4,
 "nbformat_minor": 2
}
