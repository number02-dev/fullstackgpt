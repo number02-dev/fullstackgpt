{
 "cells": [
  {
   "cell_type": "code",
   "execution_count": 22,
   "metadata": {},
   "outputs": [],
   "source": [
    "from langchain.chat_models import ChatOpenAI\n",
    "from langchain.prompts import ChatPromptTemplate\n",
    "from langchain.schema import BaseOutputParser\n",
    "from langchain.callbacks import StreamingStdOutCallbackHandler"
   ]
  },
  {
   "cell_type": "code",
   "execution_count": 24,
   "metadata": {},
   "outputs": [],
   "source": [
    "class CommaOutputParser(BaseOutputParser):\n",
    "    def parse(self, text):\n",
    "        items = text.strip().split(\"\\n\")\n",
    "        return list(map(str.strip, items))\n",
    "    "
   ]
  },
  {
   "cell_type": "code",
   "execution_count": 15,
   "metadata": {},
   "outputs": [],
   "source": [
    "chat = ChatOpenAI(\n",
    "    temperature=0.1,\n",
    "    streaming=True,\n",
    "    callbacks=[StreamingStdOutCallbackHandler()]\n",
    "    )"
   ]
  },
  {
   "cell_type": "code",
   "execution_count": 16,
   "metadata": {},
   "outputs": [],
   "source": [
    "chef_prompt = ChatPromptTemplate.from_messages(\n",
    "    [\n",
    "        (\"system\", \"You are a world-class international chef. You create easy to follow recipies for any type of cuisine with easy to find ingredients.\"),\n",
    "        (\"human\", \"I want to cook {cuisine} food.\")\n",
    "    ]\n",
    ")"
   ]
  },
  {
   "cell_type": "code",
   "execution_count": 26,
   "metadata": {},
   "outputs": [],
   "source": [
    "chef_chain = chef_prompt | chat"
   ]
  },
  {
   "cell_type": "code",
   "execution_count": 27,
   "metadata": {},
   "outputs": [],
   "source": [
    "veg_chef_prompt = ChatPromptTemplate.from_messages([\n",
    "    (\"system\", \"You are a vegetarian chef specialized on making traditional recipies vegeterian. You find alternative ingredients and explain theire preparation. You don't radically modify the recipe. If there is no alternative for a food just say you don't know how to replace it.\"),\n",
    "    (\"human\", \"{recipe}\")\n",
    "])"
   ]
  },
  {
   "cell_type": "code",
   "execution_count": 28,
   "metadata": {},
   "outputs": [],
   "source": [
    "veg_chain = veg_chef_prompt | chat"
   ]
  },
  {
   "cell_type": "code",
   "execution_count": 30,
   "metadata": {},
   "outputs": [],
   "source": [
    "final_chain = {\"recipe\": chef_chain} | veg_chain  | CommaOutputParser()"
   ]
  },
  {
   "cell_type": "code",
   "execution_count": 31,
   "metadata": {},
   "outputs": [
    {
     "name": "stdout",
     "output_type": "stream",
     "text": [
      "Great choice! Korean cuisine is known for its bold flavors and unique ingredients. Let's start with a classic and delicious recipe for Bibimbap, a popular Korean mixed rice dish.\n",
      "\n",
      "Ingredients:\n",
      "- 1 cup of cooked white rice\n",
      "- 1 carrot, julienned\n",
      "- 1 zucchini, julienned\n",
      "- 1 cup of spinach\n",
      "- 4 shiitake mushrooms, sliced\n",
      "- 1/2 cup of bean sprouts\n",
      "- 1/2 pound of beef (you can use ribeye or sirloin), thinly sliced\n",
      "- 2 cloves of garlic, minced\n",
      "- 2 tablespoons of soy sauce\n",
      "- 1 tablespoon of sesame oil\n",
      "- 1 tablespoon of vegetable oil\n",
      "- Salt and pepper to taste\n",
      "- Gochujang (Korean chili paste), to taste\n",
      "- Sesame seeds for garnish\n",
      "- Fried egg (optional)\n",
      "\n",
      "Instructions:\n",
      "1. Marinate the beef: In a bowl, combine the sliced beef with minced garlic, soy sauce, sesame oil, salt, and pepper. Let it marinate for at least 30 minutes.\n",
      "\n",
      "2. Prepare the vegetables:\n",
      "- Blanch the bean sprouts in boiling water for 1-2 minutes, then rinse with cold water and drain.\n",
      "- Blanch the spinach in boiling water for 30 seconds, then rinse with cold water and squeeze out excess water. Season with a pinch of salt and sesame oil.\n",
      "- Sauté the carrots and zucchini in a pan with a little vegetable oil until slightly softened. Season with salt and pepper.\n",
      "\n",
      "3. Cook the beef: Heat a pan over medium-high heat and cook the marinated beef until browned and cooked through.\n",
      "\n",
      "4. Assemble the Bibimbap:\n",
      "- In a bowl, place a serving of cooked rice.\n",
      "- Arrange the cooked vegetables and beef on top of the rice.\n",
      "- Add a dollop of gochujang on the side.\n",
      "- Top with a fried egg (if desired) and sprinkle with sesame seeds.\n",
      "\n",
      "5. Mix everything together before eating to combine all the flavors.\n",
      "\n",
      "Enjoy your homemade Bibimbap! Feel free to customize the ingredients based on your preferences.For a vegetarian version of Bibimbap, you can easily substitute the beef with tofu or tempeh. Here's how you can prepare the tofu or tempeh as a replacement for the beef:\n",
      "\n",
      "**Tofu:**\n",
      "- Use firm or extra firm tofu for this recipe.\n",
      "- Press the tofu to remove excess water: Place the block of tofu between paper towels or clean kitchen towels. Place a heavy object on top (like a plate with a can of beans on it) and let it sit for about 15-30 minutes.\n",
      "- Cut the tofu into thin slices or cubes, depending on your preference.\n",
      "- Marinate the tofu similarly to the beef: In a bowl, combine the tofu with minced garlic, soy sauce, sesame oil, salt, and pepper. Let it marinate for at least 30 minutes.\n",
      "\n",
      "**Tempeh:**\n",
      "- Cut the tempeh into thin slices or cubes.\n",
      "- Steam the tempeh for about 10 minutes to remove any bitterness and to soften it slightly.\n",
      "- Marinate the tempeh in a mixture of soy sauce, sesame oil, minced garlic, salt, and pepper for at least 30 minutes.\n",
      "\n",
      "Follow the rest of the recipe as instructed, replacing the beef with your marinated tofu or tempeh. The result will be a delicious vegetarian Bibimbap packed with flavor and protein. Enjoy your meat-free version of this Korean classic!"
     ]
    },
    {
     "data": {
      "text/plain": [
       "[\"For a vegetarian version of Bibimbap, you can easily substitute the beef with tofu or tempeh. Here's how you can prepare the tofu or tempeh as a replacement for the beef:\",\n",
       " '',\n",
       " '**Tofu:**',\n",
       " '- Use firm or extra firm tofu for this recipe.',\n",
       " '- Press the tofu to remove excess water: Place the block of tofu between paper towels or clean kitchen towels. Place a heavy object on top (like a plate with a can of beans on it) and let it sit for about 15-30 minutes.',\n",
       " '- Cut the tofu into thin slices or cubes, depending on your preference.',\n",
       " '- Marinate the tofu similarly to the beef: In a bowl, combine the tofu with minced garlic, soy sauce, sesame oil, salt, and pepper. Let it marinate for at least 30 minutes.',\n",
       " '',\n",
       " '**Tempeh:**',\n",
       " '- Cut the tempeh into thin slices or cubes.',\n",
       " '- Steam the tempeh for about 10 minutes to remove any bitterness and to soften it slightly.',\n",
       " '- Marinate the tempeh in a mixture of soy sauce, sesame oil, minced garlic, salt, and pepper for at least 30 minutes.',\n",
       " '',\n",
       " 'Follow the rest of the recipe as instructed, replacing the beef with your marinated tofu or tempeh. The result will be a delicious vegetarian Bibimbap packed with flavor and protein. Enjoy your meat-free version of this Korean classic!']"
      ]
     },
     "execution_count": 31,
     "metadata": {},
     "output_type": "execute_result"
    }
   ],
   "source": [
    "final_chain.invoke({\n",
    "    \"cuisine\": \"Korean\"\n",
    "})"
   ]
  },
  {
   "cell_type": "code",
   "execution_count": null,
   "metadata": {},
   "outputs": [],
   "source": []
  }
 ],
 "metadata": {
  "kernelspec": {
   "display_name": "env",
   "language": "python",
   "name": "python3"
  },
  "language_info": {
   "codemirror_mode": {
    "name": "ipython",
    "version": 3
   },
   "file_extension": ".py",
   "mimetype": "text/x-python",
   "name": "python",
   "nbconvert_exporter": "python",
   "pygments_lexer": "ipython3",
   "version": "3.11.3"
  }
 },
 "nbformat": 4,
 "nbformat_minor": 2
}
